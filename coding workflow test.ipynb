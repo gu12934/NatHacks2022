{
 "cells": [
  {
   "cell_type": "code",
   "execution_count": 3,
   "metadata": {},
   "outputs": [
    {
     "name": "stdout",
     "output_type": "stream",
     "text": [
      "Journal entry: \"I never see my dad often because he’s always at work or I might see him in the morning but we’d wouldn’t talk, but my dad never supported me in what I want to do or what I did, he would always say “Ok, do better” and I can’t even have a proper conversation with him with yelling or having an argument with him, and he would yell at me for no reason, I remember once I went to my cousin’s house and I saw my uncle having a tray of homemade breakfast for my cousin and even brought it to her and told her good morning and gave her a hug, and she’s like 18 and like when I saw that it just kinda made me really sad inside that my dad would never do that for me\"\n"
     ]
    }
   ],
   "source": [
    "#prompt for user to input a journal entry\n",
    "journal = input(\"Journal your feelings and vent about a time you were stressed\")\n",
    "print(\"Journal entry: \" + journal)"
   ]
  },
  {
   "cell_type": "code",
   "execution_count": null,
   "metadata": {},
   "outputs": [],
   "source": [
    "#text file \n",
    "\"I never see my dad often because he’s always at work or I might see him in the morning but we’d wouldn’t talk, but my dad never supported me in what I want to do or what I did, he would always say “Ok, do better” and I can’t even have a proper conversation with him with yelling or having an argument with him, and he would yell at me for no reason, I remember once I went to my cousin’s house and I saw my uncle having a tray of homemade breakfast for my cousin and even brought it to her and told her good morning and gave her a hug, and she’s like 18 and like when I saw that it just kinda made me really sad inside that my dad would never do that for me\"\n"
   ]
  },
  {
   "cell_type": "code",
   "execution_count": 5,
   "metadata": {},
   "outputs": [
    {
     "name": "stdout",
     "output_type": "stream",
     "text": [
      "Journal entry: \"I never see my dad often because he’s always at work or I might see him in the morning but we’d wouldn’t talk, but my dad never supported me in what I want to do or what I did, he would always say “Ok, do better” and I can’t even have a proper conversation with him with yelling or having an argument with him, and he would yell at me for no reason, I remember once I went to my cousin’s house and I saw my uncle having a tray of homemade breakfast for my cousin and even brought it to her and told her good morning and gave her a hug, and she’s like 18 and like when I saw that it just kinda made me really sad inside that my dad would never do that for me\"\n"
     ]
    },
    {
     "data": {
      "text/plain": [
       "659"
      ]
     },
     "execution_count": 5,
     "metadata": {},
     "output_type": "execute_result"
    }
   ],
   "source": [
    "\n",
    "#prompt for user to input a journal entry\n",
    "journal = input(\"Journal your feelings and vent about a time you were stressed\")\n",
    "print(\"Journal entry: \" + journal)\n",
    "\n",
    "#creating txt file for the user input\n",
    "y=open(r'C:\\Users\\gurmo\\OneDrive\\Desktop\\Sait 2022\\nathacks 2022\\Doc1.txt', 'w')\n",
    "y.write(journal)"
   ]
  },
  {
   "cell_type": "code",
   "execution_count": 12,
   "metadata": {},
   "outputs": [
    {
     "name": "stdout",
     "output_type": "stream",
     "text": [
      "[('dad', 3), ('morning', 2), ('cousin', 2), ('work', 1), ('conversation', 1), ('argument', 1), ('reason', 1), ('house', 1), ('uncle', 1), ('tray', 1), ('breakfast', 1), ('hug', 1)]\n"
     ]
    }
   ],
   "source": [
    "# Load Our Packages\n",
    "import pandas as pd\n",
    "import spacy\n",
    "from collections import Counter\n",
    " \n",
    "from tables import split_type\n",
    "#nlp = spacy.load('en')\n",
    " \n",
    "# Load spacy pipeline\n",
    "# nlp = spacy.load(\"en_core_web_sm\")\n",
    " \n",
    "# Load spacy pipeline\n",
    "nlp = spacy.load(\"en_core_web_sm\")\n",
    " \n",
    "# redditcontent = nlp(open('MigraineText.txt', 'r', encoding='utf-8'))\n",
    "# redditcontentstring = nlp(redditcontent.read())\n",
    "redditcontentstring = nlp(open('Doc1.txt', 'r', encoding='cp1252').read())\n",
    "# docx\n",
    "#print(redditcontentstring)\n",
    " \n",
    "nouns = [ token.text for token in redditcontentstring if token.is_stop != True and token.is_punct !=True and token.pos_ == 'NOUN']\n",
    "# nouns\n",
    " \n",
    "word_freq = Counter(nouns)\n",
    "common_nouns = word_freq.most_common(100)\n",
    "print(common_nouns)\n",
    " \n",
    "# Export to CSV\n",
    "#df = pd.DataFrame(common_nouns)\n",
    "# df.columns = [Input,'Sentence', 'Aspect', 'Descriptive Term', 'Polarity', 'Subjectivity']\n",
    "#df.columns = [\"WordPosts\",\"WordPostCounts\"]\n",
    "#df.to_csv('kneepainCount.csv', index=False)\n"
   ]
  }
 ],
 "metadata": {
  "kernelspec": {
   "display_name": "Python 3.10.5 64-bit (windows store)",
   "language": "python",
   "name": "python3"
  },
  "language_info": {
   "codemirror_mode": {
    "name": "ipython",
    "version": 3
   },
   "file_extension": ".py",
   "mimetype": "text/x-python",
   "name": "python",
   "nbconvert_exporter": "python",
   "pygments_lexer": "ipython3",
   "version": "3.10.5"
  },
  "orig_nbformat": 4,
  "vscode": {
   "interpreter": {
    "hash": "fad1b179a91d41a0b14d3d47b729614d24c4bbfd77e9848bc70857acbaefee90"
   }
  }
 },
 "nbformat": 4,
 "nbformat_minor": 2
}
